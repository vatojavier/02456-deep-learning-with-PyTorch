{
 "cells": [
  {
   "cell_type": "markdown",
   "metadata": {
    "id": "HAva8TnYFtFu"
   },
   "source": [
    "# Contents and why we need this lab\n",
    "\n",
    "This lab is about implementing neural networks yourself before we start using other frameworks that hide some of the computation from you. It builds on the first lab, where you derived the equations for neural network forward and backward propagation and gradient descent parameter updates. \n",
    "\n",
    "All the frameworks for deep learning you will meet from now on use automatic differentiation (autodiff), so you do not have to code the backward step yourself. In this version of this lab, you will develop your own autodif implementation. We also have an optional [version](https://github.com/DeepLearningDTU/02456-deep-learning-with-PyTorch/blob/master/2_Feedforward_Python/2.2-FNN-NumPy.ipynb) of this lab where you have to code the backward pass explicitly in Numpy."
   ]
  },
  {
   "cell_type": "markdown",
   "metadata": {
    "id": "sCa7HzwpFtFy"
   },
   "source": [
    "# External sources of information\n",
    "\n",
    "1. Jupyter notebook. You can find more information about Jupyter notebooks [here](https://jupyter.org/). It will come as part of the [Anaconda](https://www.anaconda.com/) Python installation. \n",
    "2. [NumPy](https://numpy.org/). Part of Anaconda distribution.  If you already know how to program, most things about Python and NumPy can be found with Google searches.\n",
    "3. [Nanograd](https://github.com/rasmusbergpalm/nanograd) is a minimalistic version of autodiff developed by Rasmus Berg Palm that we use for our framework.\n"
   ]
  },
  {
   "cell_type": "markdown",
   "metadata": {
    "id": "1SjiIp-TFtF0"
   },
   "source": [
    "# This notebook will follow the next steps:\n",
    "\n",
    "1. Nanograd automatic differentiation framework\n",
    "2. Finite difference method\n",
    "3. Data generation\n",
    "4. Defining and initializing the network\n",
    "5. Forward pass\n",
    "6. Training loop \n",
    "7. Testing your model\n",
    "8. Further extensions"
   ]
  },
  {
   "cell_type": "markdown",
   "metadata": {
    "id": "OyXeAA-HuT7s"
   },
   "source": [
    "# Nanograd automatic differention framework"
   ]
  },
  {
   "cell_type": "markdown",
   "metadata": {
    "id": "k6UWKCLKubgA"
   },
   "source": [
    "The [Nanograd](https://github.com/rasmusbergpalm/nanograd) framework defines a class Var which both holds a value and gradient value that we can use to store the intermediate values when we apply the chain rule of differentiation."
   ]
  },
  {
   "cell_type": "code",
   "execution_count": 2,
   "metadata": {
    "id": "Jd4CoEBNzNWS"
   },
   "outputs": [],
   "source": [
    "# Copy and pasted from https://github.com/rasmusbergpalm/nanograd/blob/3a1bf9e9e724da813bfccf91a6f309abdade9f39/nanograd.py\n",
    "\n",
    "from math import exp, log, tanh, cosh\n",
    "\n",
    "class Var:\n",
    "    \"\"\"\n",
    "    A variable which holds a float and enables gradient computations.\n",
    "    \"\"\"\n",
    "\n",
    "    def __init__(self, val: float, grad_fn=lambda: []):\n",
    "        assert type(val) == float\n",
    "        self.v = val\n",
    "        self.grad_fn = grad_fn\n",
    "        self.grad = 0.0\n",
    "\n",
    "    def backprop(self, bp):\n",
    "        self.grad += bp\n",
    "        for input, grad in self.grad_fn():\n",
    "            input.backprop(grad * bp)\n",
    "\n",
    "    def backward(self):\n",
    "        self.backprop(1.0)\n",
    "\n",
    "    def __add__(self: 'Var', other: 'Var') -> 'Var':\n",
    "        return Var(self.v + other.v, lambda: [(self, 1.0), (other, 1.0)])\n",
    "\n",
    "    def __mul__(self: 'Var', other: 'Var') -> 'Var':\n",
    "        return Var(self.v * other.v, lambda: [(self, other.v), (other, self.v)])\n",
    "\n",
    "    def __pow__(self, power):\n",
    "        assert type(power) in {float, int}, \"power must be float or int\"\n",
    "        return Var(self.v ** power, lambda: [(self, power * self.v ** (power - 1))])\n",
    "\n",
    "    def __neg__(self: 'Var') -> 'Var':\n",
    "        return Var(-1.0) * self\n",
    "\n",
    "    def __sub__(self: 'Var', other: 'Var') -> 'Var':\n",
    "        return self + (-other)\n",
    "\n",
    "    def __truediv__(self: 'Var', other: 'Var') -> 'Var':\n",
    "        return self * other ** -1\n",
    "\n",
    "    def __repr__(self):\n",
    "        return \"Var(v=%.4f, grad=%.4f)\" % (self.v, self.grad)\n",
    "\n",
    "\n",
    "    # Activation functions\n",
    "    def relu(self):\n",
    "        return Var(self.v if self.v > 0.0 else 0.0, lambda: [(self, 1.0 if self.v > 0.0 else 0.0)])\n",
    "\n",
    "    def identity(self):\n",
    "        return Var(self.v, lambda: [(self, 1)])\n",
    "    \n",
    "    def tanh(self):\n",
    "        return Var(tanh(self.v), lambda: [(self, 1/cosh(self.v)**2)])\n",
    "\n",
    "    def sigmoid(self):\n",
    "        return Var(1/(1.0 + exp(-self.v)), lambda: [(self, exp(-self.v)/((exp(-self.v)+1)**2) )])\n",
    "\n",
    "    \n"
   ]
  },
  {
   "cell_type": "markdown",
   "metadata": {
    "id": "yDX67D6jzcte"
   },
   "source": [
    "A few examples illustrate how we can use this:"
   ]
  },
  {
   "cell_type": "code",
   "execution_count": 3,
   "metadata": {
    "colab": {
     "base_uri": "https://localhost:8080/"
    },
    "id": "xk6PeLc3zwPT",
    "outputId": "47e431b2-07ba-4cb1-ea21-997769641c67"
   },
   "outputs": [
    {
     "name": "stdout",
     "output_type": "stream",
     "text": [
      "Var(v=3.0000, grad=5.0000)\n",
      "Var(v=5.0000, grad=3.0000)\n",
      "Var(v=15.0000, grad=1.0000)\n"
     ]
    }
   ],
   "source": [
    "a = Var(3.0)\n",
    "b = Var(5.0)\n",
    "f = a * b\n",
    "\n",
    "f.backward()\n",
    "\n",
    "for v in [a, b, f]:\n",
    "    print(v)"
   ]
  },
  {
   "cell_type": "code",
   "execution_count": 4,
   "metadata": {
    "colab": {
     "base_uri": "https://localhost:8080/"
    },
    "id": "JmKhYgsY0g_o",
    "outputId": "06c1b1df-c33c-40d3-922a-624612a591c7"
   },
   "outputs": [
    {
     "name": "stdout",
     "output_type": "stream",
     "text": [
      "Var(v=3.0000, grad=14.0000)\n",
      "Var(v=5.0000, grad=3.0000)\n",
      "Var(v=15.0000, grad=1.0000)\n",
      "Var(v=9.0000, grad=3.0000)\n",
      "Var(v=27.0000, grad=1.0000)\n",
      "Var(v=42.0000, grad=1.0000)\n"
     ]
    }
   ],
   "source": [
    "a = Var(3.0)\n",
    "b = Var(5.0)\n",
    "c = a * b\n",
    "d = Var(9.0)\n",
    "e = a * d\n",
    "f = c + e\n",
    "\n",
    "f.backward()\n",
    "\n",
    "for v in [a, b, c, d, e, f]:\n",
    "    print(v)"
   ]
  },
  {
   "cell_type": "code",
   "execution_count": 5,
   "metadata": {},
   "outputs": [
    {
     "data": {
      "image/png": "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",
      "text/plain": [
       "<Figure size 640x480 with 1 Axes>"
      ]
     },
     "metadata": {},
     "output_type": "display_data"
    }
   ],
   "source": [
    "# given code:\n",
    "import numpy as np\n",
    "import matplotlib.pyplot as plt\n",
    "\n",
    "np.random.seed(42)\n",
    "\n",
    "def data_generator(noise=0.1, n_samples=300, D1=True):\n",
    "    # Create covariates and response variable\n",
    "    if D1:\n",
    "        X = np.linspace(-3, 3, num=n_samples).reshape(-1,1) # 1-D\n",
    "        np.random.shuffle(X)\n",
    "        y = np.random.normal((0.5*np.sin(X[:,0]*3) + X[:,0]), noise) # 1-D with trend\n",
    "    else:\n",
    "        X = np.random.multivariate_normal(np.zeros(3), noise*np.eye(3), size = n_samples) # 3-D\n",
    "        np.random.shuffle(X)    \n",
    "        y = np.sin(X[:,0]) - 5*(X[:,1]**2) + 0.5*X[:,2] # 3-D\n",
    "\n",
    "    # Stack them together vertically to split data set\n",
    "    data_set = np.vstack((X.T,y)).T\n",
    "    \n",
    "    train, validation, test = np.split(data_set, [int(0.35*n_samples), int(0.7*n_samples)], axis=0)\n",
    "    \n",
    "    # Standardization of the data, remember we do the standardization with the training set mean and standard deviation\n",
    "    train_mu = np.mean(train, axis=0)\n",
    "    train_sigma = np.std(train, axis=0)\n",
    "    \n",
    "    train = (train-train_mu)/train_sigma\n",
    "    validation = (validation-train_mu)/train_sigma\n",
    "    test = (test-train_mu)/train_sigma\n",
    "    \n",
    "    x_train, x_validation, x_test = train[:,:-1], validation[:,:-1], test[:,:-1]\n",
    "    y_train, y_validation, y_test = train[:,-1], validation[:,-1], test[:,-1]\n",
    "\n",
    "    return x_train, y_train,  x_validation, y_validation, x_test, y_test\n",
    "\n",
    "D1 = True\n",
    "x_train, y_train,  x_validation, y_validation, x_test, y_test = data_generator(noise=0.5, D1=D1)\n",
    "\n",
    "if D1:\n",
    "    plt.scatter(x_train[:,0], y_train);\n",
    "    plt.scatter(x_validation[:,0], y_validation);\n",
    "    plt.scatter(x_test[:,0], y_test);\n",
    "else:\n",
    "    plt.scatter(x_train[:,1], y_train);\n",
    "    plt.scatter(x_validation[:,1], y_validation);\n",
    "    plt.scatter(x_test[:,1], y_test);\n",
    "plt.show()"
   ]
  },
  {
   "cell_type": "code",
   "execution_count": 6,
   "metadata": {},
   "outputs": [],
   "source": [
    "# Initialize neural network:\n",
    "# the NN is a tuple with a list with weights and list with biases\n",
    "def init_NN(L):\n",
    "    \"\"\"\n",
    "    Function that initializes our feed-forward neural network. \n",
    "    Input: \n",
    "    L: list of integers. The first element must be equal to the number of features of x and the last element \n",
    "        must be the number of outputs in the network.\n",
    "    Output:\n",
    "    A tuple of:\n",
    "    weights: a list with randomly initialized weights of shape (in units, out units) each. The units are the ones we defined in L.\n",
    "        For example, if L = [2, 3, 4] layers must be a list with a first element of shape (2, 3) and a second elemtn of shape (3, 4). \n",
    "        The length of layers must be len(L)-1\n",
    "    biases: a list with randomly initialized biases of shape (1, out_units) each. For the example above, bias would be a list of length\n",
    "        2 with a first element of shape (1, 3) and a second element of shape (1, 4).\n",
    "    \"\"\"\n",
    "    weights = []\n",
    "    biases  = []\n",
    "    for i in range(len(L)-1):\n",
    "        weights.append(np.random.normal(loc=0.0, scale=1.0, size=[L[i],L[i+1]])) \n",
    "        biases.append(np.random.normal(loc=0.0, scale=1.0, size=[1, L[i+1]]))     \n",
    "        \n",
    "    return (weights, biases)\n",
    "\n",
    "# Initialize the unit test neural network:\n",
    "# Same steps as above but we will not initialize the weights randomly.\n",
    "def init_NN_UT(L):\n",
    "    weights = []\n",
    "    biases  = []\n",
    "    for i in range(len(L)-1):\n",
    "        weights.append(np.ones((L[i],L[i+1]))) \n",
    "        biases.append(np.ones((1, L[i+1])))     \n",
    "        \n",
    "    return (weights, biases)\n",
    "\n",
    "# Initializer the unit test neural network\n",
    "L_UT  = [2, 3, 2]\n",
    "NN_UT = init_NN_UT(L_UT)"
   ]
  },
  {
   "cell_type": "markdown",
   "metadata": {
    "id": "Fe3B6uEH140p"
   },
   "source": [
    "## Exercise a) What is being calculated?\n",
    "\n",
    "Make a function that prints all parameters (weights and biases) with information about in which layer the parameters are."
   ]
  },
  {
   "cell_type": "code",
   "execution_count": 7,
   "metadata": {},
   "outputs": [
    {
     "name": "stdout",
     "output_type": "stream",
     "text": [
      "Weights layer 0: \n",
      "[[1. 1. 1.]\n",
      " [1. 1. 1.]]\n",
      "Biases layer 0\n",
      "[[1. 1. 1.]]\n",
      "Weights layer 1: \n",
      "[[1. 1.]\n",
      " [1. 1.]\n",
      " [1. 1.]]\n",
      "Biases layer 1\n",
      "[[1. 1.]]\n"
     ]
    }
   ],
   "source": [
    "def print_params(NN):\n",
    "    layers = len(NN)\n",
    "\n",
    "    weights = NN[0]\n",
    "    biases = NN[1]\n",
    "\n",
    "    for layer in range(layers):\n",
    "        print(f\"Weights layer {layer}: \")\n",
    "        print(weights[layer])\n",
    "\n",
    "        print(f\"Biases layer {layer}\")\n",
    "        print(biases[layer])\n",
    "\n",
    "\n",
    "\n",
    "print_params(NN_UT)"
   ]
  },
  {
   "cell_type": "markdown",
   "metadata": {},
   "source": [
    "\n",
    "Explain briefly the output of the code? What is the expression we differentiate and with respect to what variables?\n",
    "\n",
    "> For each layer the code prints the weights and the biases"
   ]
  },
  {
   "cell_type": "markdown",
   "metadata": {
    "id": "q8_Q0t2I3Ruj"
   },
   "source": [
    "## Exercise b) How does the backward function work?\n",
    "\n",
    "You need to understand how the backward function calculates the gradients. We can use the two examples above to help with that.\n",
    "\n",
    "Go through the following four steps and answer the questions on the way:\n",
    "\n",
    "1. We represent the two expressions as graphs as shown below. Fill in the missing expressions for the different derivatives.\n",
    "\n",
    "2. In the remainder consider the first expression. Make a schematic of the data structure which is generated when we define the expression for f. \n",
    "\n",
    "3. Then execute the backward function by hand to convince yourself that it indeed calculates the gradients with respect to the variables. \n",
    "\n",
    "4. Write down the sequence of calls to backprop."
   ]
  },
  {
   "cell_type": "code",
   "execution_count": 8,
   "metadata": {
    "id": "idGr71jYXl26"
   },
   "outputs": [],
   "source": [
    "# import logging\n",
    "import graphviz\n",
    "\n",
    "#logging.basicConfig(format='[%(levelname)s@%(name)s] %(message)s', level=logging.DEBUG)\n",
    "\n",
    "#graphviz.__version__, graphviz.version()"
   ]
  },
  {
   "cell_type": "code",
   "execution_count": 9,
   "metadata": {
    "colab": {
     "base_uri": "https://localhost:8080/",
     "height": 152
    },
    "id": "KPe30Q2QXzeG",
    "outputId": "7fa002cd-a018-4dbb-ddf1-28ed5e99ee19"
   },
   "outputs": [
    {
     "data": {
      "image/svg+xml": "<?xml version=\"1.0\" encoding=\"UTF-8\" standalone=\"no\"?>\n<!DOCTYPE svg PUBLIC \"-//W3C//DTD SVG 1.1//EN\"\n \"http://www.w3.org/Graphics/SVG/1.1/DTD/svg11.dtd\">\n<!-- Generated by graphviz version 2.43.0 (0)\n -->\n<!-- Title: first expression Pages: 1 -->\n<svg width=\"174pt\" height=\"98pt\"\n viewBox=\"0.00 0.00 174.00 98.00\" xmlns=\"http://www.w3.org/2000/svg\" xmlns:xlink=\"http://www.w3.org/1999/xlink\">\n<g id=\"graph0\" class=\"graph\" transform=\"scale(1 1) rotate(0) translate(4 94)\">\n<title>first expression</title>\n<polygon fill=\"white\" stroke=\"transparent\" points=\"-4,4 -4,-94 170,-94 170,4 -4,4\"/>\n<!-- a -->\n<g id=\"node1\" class=\"node\">\n<title>a</title>\n<ellipse fill=\"none\" stroke=\"black\" cx=\"18\" cy=\"-72\" rx=\"18\" ry=\"18\"/>\n<text text-anchor=\"middle\" x=\"18\" y=\"-68.3\" font-family=\"Times,serif\" font-size=\"14.00\">a</text>\n</g>\n<!-- f -->\n<g id=\"node2\" class=\"node\">\n<title>f</title>\n<ellipse fill=\"none\" stroke=\"black\" cx=\"148\" cy=\"-45\" rx=\"18\" ry=\"18\"/>\n<text text-anchor=\"middle\" x=\"148\" y=\"-41.3\" font-family=\"Times,serif\" font-size=\"14.00\">f</text>\n</g>\n<!-- a&#45;&gt;f -->\n<g id=\"edge1\" class=\"edge\">\n<title>a&#45;&gt;f</title>\n<path fill=\"none\" stroke=\"black\" d=\"M35.73,-68.47C57.2,-63.94 94.69,-56.03 120.16,-50.66\"/>\n<polygon fill=\"black\" stroke=\"black\" points=\"121.2,-54.02 130.26,-48.53 119.76,-47.17 121.2,-54.02\"/>\n<text text-anchor=\"middle\" x=\"83\" y=\"-67.8\" font-family=\"Times,serif\" font-size=\"14.00\">df/da=b</text>\n</g>\n<!-- b -->\n<g id=\"node3\" class=\"node\">\n<title>b</title>\n<ellipse fill=\"none\" stroke=\"black\" cx=\"18\" cy=\"-18\" rx=\"18\" ry=\"18\"/>\n<text text-anchor=\"middle\" x=\"18\" y=\"-14.3\" font-family=\"Times,serif\" font-size=\"14.00\">b</text>\n</g>\n<!-- b&#45;&gt;f -->\n<g id=\"edge2\" class=\"edge\">\n<title>b&#45;&gt;f</title>\n<path fill=\"none\" stroke=\"black\" d=\"M35.98,-19.86C54.75,-22.11 85.82,-26.45 112,-33 115.02,-33.76 118.15,-34.65 121.24,-35.62\"/>\n<polygon fill=\"black\" stroke=\"black\" points=\"120.2,-38.96 130.79,-38.8 122.41,-32.32 120.2,-38.96\"/>\n<text text-anchor=\"middle\" x=\"83\" y=\"-36.8\" font-family=\"Times,serif\" font-size=\"14.00\">df/db=a</text>\n</g>\n</g>\n</svg>\n",
      "text/plain": [
       "<graphviz.graphs.Digraph at 0x7f88ec8afee0>"
      ]
     },
     "execution_count": 9,
     "metadata": {},
     "output_type": "execute_result"
    }
   ],
   "source": [
    "e1 = graphviz.Digraph('first expression', filename='fsm.gv')\n",
    "\n",
    "e1.attr(rankdir='LR', size='8,5')\n",
    "\n",
    "e1.attr('node', shape='circle')\n",
    "e1.edge('a', 'f', label='df/da=b')\n",
    "e1.edge('b', 'f', label='df/db=a')\n",
    "\n",
    "e1"
   ]
  },
  {
   "cell_type": "code",
   "execution_count": 10,
   "metadata": {
    "colab": {
     "base_uri": "https://localhost:8080/",
     "height": 232
    },
    "id": "0nittR-mZFeX",
    "outputId": "fa3656a3-732c-4abe-8084-98a492b0d6be"
   },
   "outputs": [
    {
     "data": {
      "image/svg+xml": "<?xml version=\"1.0\" encoding=\"UTF-8\" standalone=\"no\"?>\n<!DOCTYPE svg PUBLIC \"-//W3C//DTD SVG 1.1//EN\"\n \"http://www.w3.org/Graphics/SVG/1.1/DTD/svg11.dtd\">\n<!-- Generated by graphviz version 2.43.0 (0)\n -->\n<!-- Title: second expression Pages: 1 -->\n<svg width=\"307pt\" height=\"158pt\"\n viewBox=\"0.00 0.00 307.00 158.00\" xmlns=\"http://www.w3.org/2000/svg\" xmlns:xlink=\"http://www.w3.org/1999/xlink\">\n<g id=\"graph0\" class=\"graph\" transform=\"scale(1 1) rotate(0) translate(4 154)\">\n<title>second expression</title>\n<polygon fill=\"white\" stroke=\"transparent\" points=\"-4,4 -4,-154 303,-154 303,4 -4,4\"/>\n<!-- a -->\n<g id=\"node1\" class=\"node\">\n<title>a</title>\n<ellipse fill=\"none\" stroke=\"black\" cx=\"18\" cy=\"-75\" rx=\"18\" ry=\"18\"/>\n<text text-anchor=\"middle\" x=\"18\" y=\"-71.3\" font-family=\"Times,serif\" font-size=\"14.00\">a</text>\n</g>\n<!-- c -->\n<g id=\"node2\" class=\"node\">\n<title>c</title>\n<ellipse fill=\"none\" stroke=\"black\" cx=\"151\" cy=\"-102\" rx=\"18\" ry=\"18\"/>\n<text text-anchor=\"middle\" x=\"151\" y=\"-98.3\" font-family=\"Times,serif\" font-size=\"14.00\">c</text>\n</g>\n<!-- a&#45;&gt;c -->\n<g id=\"edge1\" class=\"edge\">\n<title>a&#45;&gt;c</title>\n<path fill=\"none\" stroke=\"black\" d=\"M35.86,-78.47C57.97,-83.03 97.01,-91.08 123.19,-96.48\"/>\n<polygon fill=\"black\" stroke=\"black\" points=\"122.71,-99.95 133.21,-98.54 124.12,-93.09 122.71,-99.95\"/>\n<text text-anchor=\"middle\" x=\"84.5\" y=\"-97.8\" font-family=\"Times,serif\" font-size=\"14.00\">dc/da=b</text>\n</g>\n<!-- e -->\n<g id=\"node4\" class=\"node\">\n<title>e</title>\n<ellipse fill=\"none\" stroke=\"black\" cx=\"151\" cy=\"-48\" rx=\"18\" ry=\"18\"/>\n<text text-anchor=\"middle\" x=\"151\" y=\"-44.3\" font-family=\"Times,serif\" font-size=\"14.00\">e</text>\n</g>\n<!-- a&#45;&gt;e -->\n<g id=\"edge3\" class=\"edge\">\n<title>a&#45;&gt;e</title>\n<path fill=\"none\" stroke=\"black\" d=\"M35.2,-68.78C41.06,-66.71 47.76,-64.54 54,-63 76.93,-57.32 103.51,-53.37 122.88,-50.95\"/>\n<polygon fill=\"black\" stroke=\"black\" points=\"123.31,-54.42 132.83,-49.76 122.48,-47.47 123.31,-54.42\"/>\n<text text-anchor=\"middle\" x=\"84.5\" y=\"-66.8\" font-family=\"Times,serif\" font-size=\"14.00\">de/da=d</text>\n</g>\n<!-- f -->\n<g id=\"node6\" class=\"node\">\n<title>f</title>\n<ellipse fill=\"none\" stroke=\"black\" cx=\"281\" cy=\"-75\" rx=\"18\" ry=\"18\"/>\n<text text-anchor=\"middle\" x=\"281\" y=\"-71.3\" font-family=\"Times,serif\" font-size=\"14.00\">f</text>\n</g>\n<!-- c&#45;&gt;f -->\n<g id=\"edge5\" class=\"edge\">\n<title>c&#45;&gt;f</title>\n<path fill=\"none\" stroke=\"black\" d=\"M168.73,-98.47C190.2,-93.94 227.69,-86.03 253.16,-80.66\"/>\n<polygon fill=\"black\" stroke=\"black\" points=\"254.2,-84.02 263.26,-78.53 252.76,-77.17 254.2,-84.02\"/>\n<text text-anchor=\"middle\" x=\"216\" y=\"-97.8\" font-family=\"Times,serif\" font-size=\"14.00\">df/dc=1</text>\n</g>\n<!-- b -->\n<g id=\"node3\" class=\"node\">\n<title>b</title>\n<ellipse fill=\"none\" stroke=\"black\" cx=\"18\" cy=\"-132\" rx=\"18\" ry=\"18\"/>\n<text text-anchor=\"middle\" x=\"18\" y=\"-128.3\" font-family=\"Times,serif\" font-size=\"14.00\">b</text>\n</g>\n<!-- b&#45;&gt;c -->\n<g id=\"edge2\" class=\"edge\">\n<title>b&#45;&gt;c</title>\n<path fill=\"none\" stroke=\"black\" d=\"M35.86,-128.14C57.97,-123.08 97.01,-114.14 123.19,-108.14\"/>\n<polygon fill=\"black\" stroke=\"black\" points=\"124.24,-111.49 133.21,-105.85 122.68,-104.67 124.24,-111.49\"/>\n<text text-anchor=\"middle\" x=\"84.5\" y=\"-126.8\" font-family=\"Times,serif\" font-size=\"14.00\">dc/db=a</text>\n</g>\n<!-- e&#45;&gt;f -->\n<g id=\"edge6\" class=\"edge\">\n<title>e&#45;&gt;f</title>\n<path fill=\"none\" stroke=\"black\" d=\"M168.98,-49.86C187.75,-52.11 218.82,-56.45 245,-63 248.02,-63.76 251.15,-64.65 254.24,-65.62\"/>\n<polygon fill=\"black\" stroke=\"black\" points=\"253.2,-68.96 263.79,-68.8 255.41,-62.32 253.2,-68.96\"/>\n<text text-anchor=\"middle\" x=\"216\" y=\"-66.8\" font-family=\"Times,serif\" font-size=\"14.00\">df/de=1</text>\n</g>\n<!-- d -->\n<g id=\"node5\" class=\"node\">\n<title>d</title>\n<ellipse fill=\"none\" stroke=\"black\" cx=\"18\" cy=\"-18\" rx=\"18\" ry=\"18\"/>\n<text text-anchor=\"middle\" x=\"18\" y=\"-14.3\" font-family=\"Times,serif\" font-size=\"14.00\">d</text>\n</g>\n<!-- d&#45;&gt;e -->\n<g id=\"edge4\" class=\"edge\">\n<title>d&#45;&gt;e</title>\n<path fill=\"none\" stroke=\"black\" d=\"M36.27,-19.39C55.71,-21.25 88.09,-25.26 115,-33 118.41,-33.98 121.92,-35.21 125.35,-36.54\"/>\n<polygon fill=\"black\" stroke=\"black\" points=\"124.05,-39.78 134.62,-40.42 126.76,-33.33 124.05,-39.78\"/>\n<text text-anchor=\"middle\" x=\"84.5\" y=\"-36.8\" font-family=\"Times,serif\" font-size=\"14.00\">de/dd=a</text>\n</g>\n</g>\n</svg>\n",
      "text/plain": [
       "<graphviz.graphs.Digraph at 0x7f88ea7180d0>"
      ]
     },
     "execution_count": 10,
     "metadata": {},
     "output_type": "execute_result"
    }
   ],
   "source": [
    "e2 = graphviz.Digraph('second expression', filename='fsm.gv')\n",
    "\n",
    "e2.attr(rankdir='LR', size='8,5')\n",
    "\n",
    "e2.attr('node', shape='circle')\n",
    "e2.edge('a', 'c', label='dc/da=b')\n",
    "e2.edge('b', 'c', label='dc/db=a')\n",
    "e2.edge('a', 'e', label='de/da=d')\n",
    "e2.edge('d', 'e', label='de/dd=a')\n",
    "\n",
    "e2.edge('c', 'f', label='df/dc=1')\n",
    "e2.edge('e', 'f', label='df/de=1')\n",
    "\n",
    "e2"
   ]
  },
  {
   "cell_type": "markdown",
   "metadata": {
    "id": "A5oi21W4gpeM"
   },
   "source": [
    "## Exercise c) What happens if we run backward again?\n",
    "\n",
    "Try to execute the code below. Explain what happens."
   ]
  },
  {
   "cell_type": "code",
   "execution_count": 11,
   "metadata": {
    "colab": {
     "base_uri": "https://localhost:8080/"
    },
    "id": "DCtpJyr-gyX1",
    "outputId": "d014bcfa-c9ae-49c3-d268-91cc6ca94ea5"
   },
   "outputs": [
    {
     "name": "stdout",
     "output_type": "stream",
     "text": [
      "Var(v=3.0000, grad=28.0000)\n",
      "Var(v=5.0000, grad=6.0000)\n",
      "Var(v=15.0000, grad=2.0000)\n",
      "Var(v=9.0000, grad=6.0000)\n",
      "Var(v=27.0000, grad=2.0000)\n",
      "Var(v=42.0000, grad=2.0000)\n"
     ]
    }
   ],
   "source": [
    "f.backward()\n",
    "\n",
    "for v in [a, b, c, d, e, f]:\n",
    "    print(v)"
   ]
  },
  {
   "cell_type": "markdown",
   "metadata": {},
   "source": [
    "> The gradients are getting bigger and bigger"
   ]
  },
  {
   "cell_type": "markdown",
   "metadata": {
    "id": "e8bPVq2VhsP-"
   },
   "source": [
    "## Exercise d) Zero gradient\n",
    "\n",
    "We can zero the gradient by backpropagating a -1.0 as is shown in the example below. (If you have run backward multiple time then you also have to run the cell below an equal amount of times.) Explain what is going on."
   ]
  },
  {
   "cell_type": "code",
   "execution_count": 12,
   "metadata": {
    "colab": {
     "base_uri": "https://localhost:8080/"
    },
    "id": "OnyPDQx9lJe0",
    "outputId": "7a125fdc-60c4-4340-a580-8b82aea5b0db"
   },
   "outputs": [
    {
     "name": "stdout",
     "output_type": "stream",
     "text": [
      "Var(v=2.0000, grad=0.0000)\n",
      "Var(v=5.0000, grad=6.0000)\n",
      "Var(v=15.0000, grad=2.0000)\n",
      "Var(v=9.0000, grad=6.0000)\n",
      "Var(v=27.0000, grad=2.0000)\n",
      "Var(v=42.0000, grad=2.0000)\n",
      "\n",
      "Var(v=2.0000, grad=0.0000)\n",
      "Var(v=5.0000, grad=3.0000)\n",
      "Var(v=15.0000, grad=1.0000)\n",
      "Var(v=9.0000, grad=3.0000)\n",
      "Var(v=27.0000, grad=1.0000)\n",
      "Var(v=42.0000, grad=1.0000)\n"
     ]
    }
   ],
   "source": [
    "a = Var(2.0)\n",
    "\n",
    "for v in [a, b, c, d, e, f]:\n",
    "    print(v)\n",
    "\n",
    "f.backprop(-1.0)\n",
    "print()\n",
    "for v in [a, b, c, d, e, f]:\n",
    "    print(v)"
   ]
  },
  {
   "cell_type": "markdown",
   "metadata": {},
   "source": [
    "> The gradient goes to zero by doing backpropagation"
   ]
  },
  {
   "cell_type": "markdown",
   "metadata": {
    "id": "U4057_ljNvWB"
   },
   "source": [
    "## Exercise e) Test correctness of derivatives with the finite difference method\n",
    "\n",
    "Write a small function that uses [the finite difference method](https://en.wikipedia.org/wiki/Finite_difference_method) to numerically test that backpropation implementation is working. In short we will use\n",
    "$$\n",
    "\\frac{\\partial f(a)}{\\partial a} \\approx \\frac{f(a+da)-f(a)}{da}\n",
    "$$\n",
    "for $da \\ll 1$.\n",
    "\n",
    "As an example, we could approximate the derivative of the function $f(a)=a^2$ in e.g. the value $a=4$ using the finite difference method. This amounts to inserting the relevant values and approximating the gradient $f'(4)$ with the fraction above. \n"
   ]
  },
  {
   "cell_type": "code",
   "execution_count": 13,
   "metadata": {
    "colab": {
     "base_uri": "https://localhost:8080/"
    },
    "id": "9TGil92lSXDN",
    "outputId": "7ef5489b-b525-4132-ab08-0b1109c07f4d"
   },
   "outputs": [
    {
     "name": "stdout",
     "output_type": "stream",
     "text": [
      "Var(v=5.0000, grad=10.0000)\n",
      "Var(v=5.0000, grad=3.0000)\n",
      "Var(v=25.0000, grad=1.0000)\n",
      "10.00000082740371\n"
     ]
    }
   ],
   "source": [
    "# f function - try to change the code to test other types of functions as well (such as different polynomials etc.)\n",
    "def f_function(a):\n",
    "  a = Var(a+2)\n",
    "  # b = Var(5.0)\n",
    "\n",
    "  f = a ** 2\n",
    "\n",
    "\n",
    "\n",
    "  f.backward()\n",
    "  return a, b, f\n",
    "\n",
    "for v in f_function(3.0):\n",
    "  print(v)\n",
    "\n",
    "# Insert your finite difference code here\n",
    "def finite_difference(da=1e-10):\n",
    "    \"\"\"\n",
    "    This function compute the finite difference between\n",
    "    \n",
    "    Input:\n",
    "    da:          The finite difference                           (float)\n",
    "    \n",
    "    Output:\n",
    "    finite_difference: numerical approximation to the derivative (float) \n",
    "    \"\"\"\n",
    "\n",
    "\n",
    "    \n",
    "    _, _, fa_da = f_function(3.0+da)      # <- Insert correct expression\n",
    "    _, _, fa = f_function(3.0)                   # <- Insert correct expression\n",
    "\n",
    "    finite_difference = (fa_da.v - fa.v) / da\n",
    "    \n",
    "    return finite_difference\n",
    "\n",
    "print(finite_difference())"
   ]
  },
  {
   "cell_type": "markdown",
   "metadata": {
    "id": "6pZar5RKaUkg"
   },
   "source": [
    "# Create an artificial dataset to play with\n",
    "\n",
    "We create a non-linear 1d regression task. The generator supports various noise levels and it creates train, validation and test sets. You can modify it yourself if you want more or less challenging tasks."
   ]
  },
  {
   "cell_type": "code",
   "execution_count": 14,
   "metadata": {
    "id": "Y6yfMAQ8aduj"
   },
   "outputs": [],
   "source": [
    "import numpy as np\n",
    "import matplotlib.pyplot as plt\n",
    "\n",
    "np.random.seed(42)"
   ]
  },
  {
   "cell_type": "code",
   "execution_count": 15,
   "metadata": {
    "id": "4YabfD43ajNh"
   },
   "outputs": [],
   "source": [
    "def data_generator(noise=0.1, n_samples=300, D1=True):\n",
    "    # Create covariates and response variable\n",
    "    if D1:\n",
    "        X = np.linspace(-3, 3, num=n_samples).reshape(-1,1) # 1-D\n",
    "        np.random.shuffle(X)\n",
    "        y = np.random.normal((0.5*np.sin(X[:,0]*3) + X[:,0]), noise) # 1-D with trend\n",
    "    else:\n",
    "        X = np.random.multivariate_normal(np.zeros(3), noise*np.eye(3), size = n_samples) # 3-D\n",
    "        np.random.shuffle(X)    \n",
    "        y = np.sin(X[:,0]) - 5*(X[:,1]**2) + 0.5*X[:,2] # 3-D\n",
    "\n",
    "    # Stack them together vertically to split data set\n",
    "    data_set = np.vstack((X.T,y)).T\n",
    "    \n",
    "    train, validation, test = np.split(data_set, [int(0.35*n_samples), int(0.7*n_samples)], axis=0)\n",
    "    \n",
    "    # Standardization of the data, remember we do the standardization with the training set mean and standard deviation\n",
    "    train_mu = np.mean(train, axis=0)\n",
    "    train_sigma = np.std(train, axis=0)\n",
    "    \n",
    "    train = (train-train_mu)/train_sigma\n",
    "    validation = (validation-train_mu)/train_sigma\n",
    "    test = (test-train_mu)/train_sigma\n",
    "    \n",
    "    x_train, x_validation, x_test = train[:,:-1], validation[:,:-1], test[:,:-1]\n",
    "    y_train, y_validation, y_test = train[:,-1], validation[:,-1], test[:,-1]\n",
    "\n",
    "    return x_train, y_train,  x_validation, y_validation, x_test, y_test"
   ]
  },
  {
   "cell_type": "code",
   "execution_count": 16,
   "metadata": {
    "id": "u1oDngHLapIz"
   },
   "outputs": [],
   "source": [
    "D1 = True\n",
    "x_train, y_train,  x_validation, y_validation, x_test, y_test = data_generator(noise=0.5, D1=D1)"
   ]
  },
  {
   "cell_type": "code",
   "execution_count": 17,
   "metadata": {
    "colab": {
     "base_uri": "https://localhost:8080/",
     "height": 265
    },
    "id": "Ysfa3FsBavlm",
    "outputId": "399e5382-ae7d-48f6-9774-7ea4c73e7d95"
   },
   "outputs": [
    {
     "data": {
      "image/png": "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",
      "text/plain": [
       "<Figure size 640x480 with 1 Axes>"
      ]
     },
     "metadata": {},
     "output_type": "display_data"
    }
   ],
   "source": [
    "if D1:\n",
    "    plt.scatter(x_train[:,0], y_train);\n",
    "    plt.scatter(x_validation[:,0], y_validation);\n",
    "    plt.scatter(x_test[:,0], y_test);\n",
    "else:\n",
    "    plt.scatter(x_train[:,1], y_train);\n",
    "    plt.scatter(x_validation[:,1], y_validation);\n",
    "    plt.scatter(x_test[:,1], y_test);\n",
    "plt.show()"
   ]
  },
  {
   "cell_type": "code",
   "execution_count": 18,
   "metadata": {
    "id": "zac2HHNlgbpm"
   },
   "outputs": [],
   "source": [
    "# convert from nparray to Var\n",
    "def nparray_to_Var(x):\n",
    "  if x.ndim==1:\n",
    "    y = [[Var(float(x[i]))] for i in range(x.shape[0])] # always work with list of list\n",
    "  else:\n",
    "    y = [[Var(float(x[i,j])) for j in range(x.shape[1])] for i in range(x.shape[0])]\n",
    "  return y\n",
    "   \n",
    "x_train = nparray_to_Var(x_train)\n",
    "y_train = nparray_to_Var(y_train)\n",
    "x_validation = nparray_to_Var(x_validation)\n",
    "y_validation = nparray_to_Var(y_validation)\n",
    "x_test = nparray_to_Var(x_test)\n",
    "y_test = nparray_to_Var(y_test)\n"
   ]
  },
  {
   "cell_type": "markdown",
   "metadata": {
    "id": "VbjrqcpVFtGe"
   },
   "source": [
    "# Defining and initializing the network\n",
    "\n",
    "The steps to create a feed forward neural network are the following:\n",
    "\n",
    "1. **Number of hidden layer and hidden units**. We have to define the number of hidden units in each layer. The number of features in X and the output dimensionality (the size of Y) are given but the numbers in between are set by the researcher. Remember that for each unit in each layer beside in the input has a bias term.\n",
    "2. **Activation functions** for each hidden layer. Each hidden layer in your list must have an activation function (it can also be the linear activation which is equivalent to identity function). The power of neural networks comes from non-linear activation functions that learn representations (features) from the data allowing us to learn from it. \n",
    "3. **Parameter initialization**. We will initialize the weights to have random values. This is done in practice by drawing pseudo random numbers from a Gaussian or uniform distribution. It turns out that for deeper models we have to be careful about how we scale the random numbers. This will be the topic of the exercise below. For now we will just use unit variance Gaussians.  \n",
    "\n",
    "In order to make life easier for ourselves we define a DenseLayer class that takes care of initialization and the forward pass. We can also extend it later with print and advanced initialization capabilities. For the latter we have introduced a Initializer class.\n",
    "\n",
    "Note that we use Sequence in the code below. A Sequence is an ordered list. This means the order we insert and access items are the same."
   ]
  },
  {
   "cell_type": "code",
   "execution_count": 19,
   "metadata": {
    "id": "ij_ieRsAt7Xt"
   },
   "outputs": [],
   "source": [
    "class Initializer:\n",
    "\n",
    "  def init_weights(self, n_in, n_out):\n",
    "    raise NotImplementedError\n",
    "\n",
    "  def init_bias(self, n_out):\n",
    "    raise NotImplementedError"
   ]
  },
  {
   "cell_type": "code",
   "execution_count": 20,
   "metadata": {
    "id": "eb18N5phuIha"
   },
   "outputs": [],
   "source": [
    "import random\n",
    "\n",
    "class NormalInitializer(Initializer):\n",
    "\n",
    "  def __init__(self, mean=0, std=0.1):\n",
    "    self.mean = mean\n",
    "    self.std = std\n",
    "\n",
    "  def init_weights(self, n_in, n_out):\n",
    "    return [[Var(random.gauss(self.mean, self.std)) for _ in range(n_out)] for _ in range(n_in)]\n",
    "\n",
    "  def init_bias(self, n_out):\n",
    "    return [Var(0.0) for _ in range(n_out)]\n",
    "\n",
    "class ConstantInitializer(Initializer):\n",
    "\n",
    "  def __init__(self, weight=1.0, bias=0.0):\n",
    "    self.weight = weight\n",
    "    self.bias = bias\n",
    "\n",
    "  def init_weights(self, n_in, n_out):\n",
    "    return [[Var(self.weight) for _ in range(n_out)] for _ in range(n_in)]\n",
    "\n",
    "  def init_bias(self, n_out):\n",
    "    return [Var(self.bias) for _ in range(n_out)]"
   ]
  },
  {
   "cell_type": "code",
   "execution_count": 31,
   "metadata": {
    "id": "jOLYGnZKuM6W"
   },
   "outputs": [],
   "source": [
    "from typing import Sequence\n",
    "\n",
    "class DenseLayer:\n",
    "    def __init__(self, n_in: int, n_out: int, act_fn, initializer = NormalInitializer()):\n",
    "        self.weights = initializer.init_weights(n_in, n_out)\n",
    "        self.bias = initializer.init_bias(n_out)\n",
    "        self.act_fn = act_fn\n",
    "    \n",
    "    def __repr__(self):    \n",
    "        return 'Weights: ' + repr(self.weights) + ' Biases: ' + repr(self.bias)\n",
    "\n",
    "    def parameters(self) -> Sequence[Var]:\n",
    "      params = []\n",
    "      for r in self.weights:\n",
    "        params += r\n",
    "\n",
    "      return params + self.bias\n",
    "\n",
    "    def forward(self, single_input: Sequence[Var]) -> Sequence[Var]:\n",
    "        # self.weights is a matrix with dimension n_in x n_out. We check that the dimensionality of the input \n",
    "        # to the current layer matches the number of nodes in the current layer\n",
    "        assert len(self.weights) == len(single_input), \"weights and single_input must match in first dimension\"\n",
    "        weights = self.weights\n",
    "        out = []\n",
    "        # For some given data point single_input, we now want to calculate the resulting value in each node in the current layer\n",
    "        # We therefore loop over the (number of) nodes in the current layer:\n",
    "        for j in range(len(weights[0])):\n",
    "\n",
    "            \n",
    "            # Initialize the node value depending on its corresponding parameters.\n",
    "            # node = Var(0.0) # <- Insert code\n",
    "            node = self.bias[j] \n",
    "            # node = self.parameters()\n",
    "            inputs = self.weights\n",
    "            \n",
    "            # We now finish the linear transformation corresponding to the parameters of the currently considered node.\n",
<<<<<<< HEAD
    "            for i in range(len(single_input)):\n",
    "                node += Var(0.0)  # <- Insert code\n",
=======
    "            for i in range(len(inputs)):\n",
    "                # node += Var(0.0)  # <- Insert code\n",
    "                node += single_input[i]*weights[i][j]\n",
    "                \n",
>>>>>>> 9f01edb (Tirando)
    "            node = self.act_fn(node)\n",
    "            out.append(node)\n",
    "\n",
    "        return out"
   ]
  },
  {
   "cell_type": "markdown",
   "metadata": {
    "id": "jpIZPBpNI0pO"
   },
   "source": [
    "## Exercise f) Add more activation functions\n",
    "\n",
    "To have a full definition of the neural network, we must define an activation function for every layer. Several activation functions have been proposed and have different characteristics. In the Var class we have already defined the rectified linear init (relu). \n",
    " \n",
    "Implement the following activation functions in the Var class:\n",
    "\n",
    "* Identity: $$\\mathrm{identity}(x) = x$$\n",
    "* Hyperbolic tangent: $$\\tanh(x)$$\n",
    "* Sigmoid (or logistic function): $$\\mathrm{sigmoid}(x) = \\frac{1}{1.0 + \\exp(-x ) }$$  Hint: $\\mathrm{sigmoid}'(x)= \\mathrm{sigmoid}(x)(1-\\mathrm{sigmoid}(x))$.  \n",
    "\n",
    "Hint: You can seek inspiration in the relu method in the Var class."
   ]
  },
  {
   "cell_type": "markdown",
   "metadata": {},
   "source": [
    "> Code implemented in the Var class above"
   ]
  },
  {
   "cell_type": "markdown",
   "metadata": {
    "id": "p_8n_SKnIW2F"
   },
   "source": [
    "## Exercise g) Complete the forward pass\n",
    "\n",
    "In the code below we initialize a 1-5-1 network and pass the training set through it. *The forward method in DenseLayer is **not** complete*. It just outputs zeros right now. The method forward should perform an [affine transformation](https://en.wikipedia.org/wiki/Affine_transformation) on the input followed by an application of the activation function."
   ]
  },
  {
   "cell_type": "code",
   "execution_count": 38,
   "metadata": {
    "colab": {
     "base_uri": "https://localhost:8080/",
     "height": 337
    },
    "id": "xDEjtePxE7Mv",
    "outputId": "753406cd-d8a1-4282-ce03-25ad959b0e11"
   },
   "outputs": [
    {
     "name": "stdout",
     "output_type": "stream",
     "text": [
      "[[Var(v=-0.0087, grad=0.0000)], [Var(v=-0.0174, grad=0.0000)], [Var(v=-0.0016, grad=0.0000)], [Var(v=0.0173, grad=0.0000)], [Var(v=-0.0128, grad=0.0000)], [Var(v=-0.0118, grad=0.0000)], [Var(v=-0.0077, grad=0.0000)], [Var(v=0.0042, grad=0.0000)], [Var(v=0.0178, grad=0.0000)], [Var(v=-0.0048, grad=0.0000)], [Var(v=-0.0134, grad=0.0000)], [Var(v=0.0110, grad=0.0000)], [Var(v=-0.0107, grad=0.0000)], [Var(v=0.0126, grad=0.0000)], [Var(v=-0.0057, grad=0.0000)], [Var(v=-0.0111, grad=0.0000)], [Var(v=-0.0206, grad=0.0000)], [Var(v=-0.0098, grad=0.0000)], [Var(v=-0.0010, grad=0.0000)], [Var(v=-0.0034, grad=0.0000)], [Var(v=0.0082, grad=0.0000)], [Var(v=0.0036, grad=0.0000)], [Var(v=-0.0150, grad=0.0000)], [Var(v=-0.0152, grad=0.0000)], [Var(v=0.0048, grad=0.0000)], [Var(v=0.0129, grad=0.0000)], [Var(v=-0.0195, grad=0.0000)], [Var(v=-0.0214, grad=0.0000)], [Var(v=-0.0023, grad=0.0000)], [Var(v=-0.0135, grad=0.0000)], [Var(v=0.0162, grad=0.0000)], [Var(v=-0.0032, grad=0.0000)], [Var(v=0.0141, grad=0.0000)], [Var(v=0.0153, grad=0.0000)], [Var(v=-0.0103, grad=0.0000)], [Var(v=0.0028, grad=0.0000)], [Var(v=0.0175, grad=0.0000)], [Var(v=0.0066, grad=0.0000)], [Var(v=0.0124, grad=0.0000)], [Var(v=0.0089, grad=0.0000)], [Var(v=0.0063, grad=0.0000)], [Var(v=0.0085, grad=0.0000)], [Var(v=-0.0202, grad=0.0000)], [Var(v=0.0106, grad=0.0000)], [Var(v=0.0084, grad=0.0000)], [Var(v=0.0102, grad=0.0000)], [Var(v=-0.0130, grad=0.0000)], [Var(v=-0.0123, grad=0.0000)], [Var(v=0.0039, grad=0.0000)], [Var(v=-0.0125, grad=0.0000)], [Var(v=-0.0055, grad=0.0000)], [Var(v=-0.0005, grad=0.0000)], [Var(v=-0.0136, grad=0.0000)], [Var(v=0.0086, grad=0.0000)], [Var(v=-0.0217, grad=0.0000)], [Var(v=-0.0191, grad=0.0000)], [Var(v=0.0057, grad=0.0000)], [Var(v=0.0064, grad=0.0000)], [Var(v=-0.0071, grad=0.0000)], [Var(v=0.0152, grad=0.0000)], [Var(v=-0.0127, grad=0.0000)], [Var(v=0.0107, grad=0.0000)], [Var(v=0.0177, grad=0.0000)], [Var(v=-0.0062, grad=0.0000)], [Var(v=-0.0045, grad=0.0000)], [Var(v=0.0145, grad=0.0000)], [Var(v=0.0156, grad=0.0000)], [Var(v=-0.0160, grad=0.0000)], [Var(v=0.0111, grad=0.0000)], [Var(v=-0.0063, grad=0.0000)], [Var(v=0.0043, grad=0.0000)], [Var(v=0.0019, grad=0.0000)], [Var(v=-0.0124, grad=0.0000)], [Var(v=-0.0073, grad=0.0000)], [Var(v=0.0015, grad=0.0000)], [Var(v=-0.0196, grad=0.0000)], [Var(v=0.0077, grad=0.0000)], [Var(v=0.0074, grad=0.0000)], [Var(v=0.0098, grad=0.0000)], [Var(v=-0.0204, grad=0.0000)], [Var(v=-0.0031, grad=0.0000)], [Var(v=-0.0019, grad=0.0000)], [Var(v=0.0160, grad=0.0000)], [Var(v=0.0022, grad=0.0000)], [Var(v=0.0081, grad=0.0000)], [Var(v=0.0035, grad=0.0000)], [Var(v=0.0030, grad=0.0000)], [Var(v=0.0090, grad=0.0000)], [Var(v=0.0165, grad=0.0000)], [Var(v=0.0171, grad=0.0000)], [Var(v=-0.0074, grad=0.0000)], [Var(v=0.0052, grad=0.0000)], [Var(v=0.0095, grad=0.0000)], [Var(v=-0.0116, grad=0.0000)], [Var(v=0.0136, grad=0.0000)], [Var(v=0.0164, grad=0.0000)], [Var(v=-0.0053, grad=0.0000)], [Var(v=-0.0009, grad=0.0000)], [Var(v=-0.0185, grad=0.0000)], [Var(v=0.0097, grad=0.0000)], [Var(v=-0.0121, grad=0.0000)], [Var(v=0.0094, grad=0.0000)], [Var(v=0.0144, grad=0.0000)], [Var(v=-0.0059, grad=0.0000)], [Var(v=-0.0173, grad=0.0000)]]\n"
     ]
    }
   ],
   "source": [
    "NN = [\n",
    "    DenseLayer(1, 5, lambda x: x.relu()),\n",
    "    DenseLayer(5, 1, lambda x: x.identity())\n",
    "]\n",
    "\n",
    "def forward(input, network):\n",
    "\n",
    "  def forward_single(x, network):\n",
    "    for layer in network:\n",
    "        x = layer.forward(x)\n",
    "    return x\n",
    "\n",
    "  output = [ forward_single(input[n], network) for n in range(len(input))]\n",
    "  return output\n",
    "\n",
    "print(forward(x_train, NN))\n"
   ]
  },
  {
   "cell_type": "markdown",
   "metadata": {
    "id": "oLrGJytZFtGm"
   },
   "source": [
    "## Exercise h) Print all network parameters\n",
    "\n",
    "Make a function that prints all the parameters of the network (weights and biases) with information about in which layer the appear. In the object oriented spirit you should introduce a method in the DenseLayer class to print the parameters of a layer. Hint: You can take inspiration from the corresponding method in Var. "
   ]
  },
  {
   "cell_type": "code",
   "execution_count": 41,
   "metadata": {
    "id": "iac-VwYGFtGm"
   },
   "outputs": [
    {
     "name": "stdout",
     "output_type": "stream",
     "text": [
      "Layer 0: \n",
      "Weights: [[Var(v=0.2202, grad=0.0000), Var(v=0.0431, grad=0.0000), Var(v=-0.0199, grad=0.0000), Var(v=-0.1429, grad=0.0000), Var(v=0.1460, grad=0.0000)]] Biases: [Var(v=0.0000, grad=0.0000), Var(v=0.0000, grad=0.0000), Var(v=0.0000, grad=0.0000), Var(v=0.0000, grad=0.0000), Var(v=0.0000, grad=0.0000)]\n",
      "Layer 1: \n",
      "Weights: [[Var(v=-0.0768, grad=0.0000)], [Var(v=-0.0506, grad=0.0000)], [Var(v=0.0303, grad=0.0000)], [Var(v=0.0752, grad=0.0000)], [Var(v=0.0487, grad=0.0000)]] Biases: [Var(v=0.0000, grad=0.0000)]\n"
     ]
    }
   ],
   "source": [
    "# Insert code here and in the DenseLayer class\n",
    "\n",
    "def print_NN(NN):\n",
    "    for n_layer, layer in enumerate(NN):\n",
    "        print(f\"Layer {n_layer}: \")\n",
    "        print(layer)\n",
    "\n",
    "print_NN(NN)"
   ]
  },
  {
   "cell_type": "markdown",
   "metadata": {
    "id": "_79HOAXrFtHK"
   },
   "source": [
    "## Visualization\n",
    "\n",
    "Now that we have defined our activation functions we can visualize them to see what they look like:"
   ]
  },
  {
   "cell_type": "code",
   "execution_count": 34,
   "metadata": {
    "id": "1FcylHqLTl-Z"
   },
   "outputs": [
    {
     "data": {
      "text/plain": [
       "[<matplotlib.lines.Line2D at 0x7f88ea53b160>]"
      ]
     },
     "execution_count": 34,
     "metadata": {},
     "output_type": "execute_result"
    },
    {
     "data": {
      "image/png": "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",
      "text/plain": [
       "<Figure size 640x480 with 1 Axes>"
      ]
     },
     "metadata": {},
     "output_type": "display_data"
    }
   ],
   "source": [
    "x = np.linspace(-6, 6, 100)\n",
    "\n",
    "# convert from Var to ndarray  \n",
    "def Var_to_nparray(x):\n",
    "  y = np.zeros((len(x),len(x[0])))\n",
    "  for i in range(len(x)):\n",
    "    for j in range(len(x[0])):\n",
    "      y[i,j] = x[i][j].v\n",
    "  return y\n",
    "\n",
    "# define 1-1 network with weight = 1 and relu activation \n",
    "NN = [ DenseLayer(1, 1, lambda x: x.relu(), initializer = ConstantInitializer(1.0)) ] \n",
    "y = Var_to_nparray(forward(nparray_to_Var(x), NN))\n",
    "\n",
    "#y = Var_to_nparray(relu(nparray_to_Var(x)))\n",
    "plt.plot(x,y)"
   ]
  },
  {
   "cell_type": "code",
   "execution_count": 35,
   "metadata": {
    "id": "oOL2UolJFtHL"
   },
   "outputs": [
    {
     "data": {
      "image/png": "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",
      "text/plain": [
       "<Figure size 500x500 with 1 Axes>"
      ]
     },
     "metadata": {},
     "output_type": "display_data"
    }
   ],
   "source": [
    "# Testing all activation layers\n",
    "\n",
    "x = np.linspace(-6, 6, 100)\n",
    "units = {\n",
    "    \"identity\": lambda x: x.identity(),\n",
    "    \"sigmoid\": lambda x: x.sigmoid(),\n",
    "    \"relu\": lambda x: x.relu(),\n",
    "    \"tanh\": lambda x: x.tanh()\n",
    "}\n",
    "\n",
    "plt.figure(figsize=(5, 5))\n",
    "[plt.plot(x, Var_to_nparray(forward(nparray_to_Var(x), [DenseLayer(1, 1, unit, initializer = ConstantInitializer(1.0))]) ), label=unit_name, lw=2) for unit_name, unit in units.items()] # unit(nparray_to_Var(x))), label=unit_name, lw=2) for unit_name, unit in units.items()]\n",
    "plt.legend(loc=2, fontsize=16)\n",
    "plt.title('Our activation functions', fontsize=20)\n",
    "plt.ylim([-2, 5])\n",
    "plt.xlim([-6, 6])\n",
    "plt.show()"
   ]
  },
  {
   "cell_type": "markdown",
   "metadata": {
    "id": "b-jdEl-7FtGs"
   },
   "source": [
    "# Advanced initialization schemes\n",
    "\n",
    "If we are not careful with initialization, the signals we propagate forward ($a^{(l)}$, $l=1,\\ldots,L$) and backward ($\\delta^l$, $l=L,L-1,\\ldots,1$) can blow up or shrink to zero. A statistical analysis of the variance of the signals for different activation functions can be found in these two papers: [Glorot initialization](http://proceedings.mlr.press/v9/glorot10a/glorot10a.pdf) and [He initialization](https://arxiv.org/pdf/1502.01852v1.pdf). \n",
    "\n",
    "The result of the analyses are proposals for how to make the initialization such that the variance of the signals (forward and backward) are kept approxmimatly constant when propagating from layer to layer. The exact expressions depend upon the non-linear activation function used. In Glorot initialization, the aim is to keep both the forward and backward variances constant whereas He only aims at keeping the variance in the forward pass constant.\n",
    "\n",
    "We define $n_{in}$ and $n_{out}$ as the number of input units and output units of a particular layer. \n",
    "\n",
    "The Glorot initialization has the form: \n",
    "\n",
    "$$w_{ij} \\sim N \\bigg( 0, \\, \\frac{2 \\alpha }{n_{in} + n_{out}} \\bigg) \\ . $$\n",
    "\n",
    "where $N(\\mu,\\sigma^2)$ is a Gaussian distribution with mean $\\mu$ and variance $\\sigma^2$ and $\\alpha$ is a parameter that depends upon the activation function used. For $\\tanh$, $\\alpha=1$ and for Rectified Linear Unit (ReLU) activations, $\\alpha=2$. (It is also possible to use a uniform distribution for initialization, see [this blog post](https://mmuratarat.github.io/2019-02-25/xavier-glorot-he-weight-init).) \n",
    "\n",
    "The He initialization is very similar\n",
    "\n",
    "$$w_{ij} \\sim N \\bigg( 0, \\, \\frac{\\alpha}{n_{in}} \\bigg) \\ . $$"
   ]
  },
  {
   "cell_type": "markdown",
   "metadata": {
    "id": "mqeyab9qFtGs"
   },
   "source": [
    "## Exercise i) Glorot and He initialization\n",
    " \n",
    "Using the Initializer class, implement functions that implement Glorot and He \n",
    "\n",
    "Explain briefly how you would test numerically that these initializations have the sought after property. Hint: See plots in Glorot paper.\n",
    "\n",
    "Comment: If you want to be more advanced then try to make a universal initializer taking both the activation function and type (Glorot or He) as argument."
   ]
  },
  {
   "cell_type": "code",
   "execution_count": null,
   "metadata": {
    "id": "Qyk01CgaFtGt"
   },
   "outputs": [],
   "source": [
    "## Glorot\n",
    "def DenseLayer_Glorot_tanh(n_in: int, n_out: int):\n",
    "  std = 0.0 # <- replace with proper initialization\n",
    "  return DenseLayer(n_in, n_out, lambda x: x.tanh(), initializer = NormalInitializer(std))\n",
    "\n",
    "## He\n",
    "def DenseLayer_He_relu(n_in: int, n_out: int):\n",
    "  std = 0.0 # <- replace with proper initialization\n",
    "  return DenseLayer(n_in, n_out, lambda x: x.relu(), initializer = NormalInitializer(std))"
   ]
  },
  {
   "cell_type": "markdown",
   "metadata": {
    "id": "-XyXBD37FtHk"
   },
   "source": [
    "## Exercise j) Forward pass unit test\n",
    "\n",
    "Write a bit of code to make a unit test that the forward pass works. This can be done by defining a simple network with for example all weights equal to one (using the ConstantInitializer method) and identity activation functions. \n",
    "\n",
    "Hints: Use the [assert](https://www.w3schools.com/python/ref_keyword_assert.asp), the nparray_to_Var and the Var_to_nparray commands. "
   ]
  },
  {
   "cell_type": "code",
   "execution_count": null,
   "metadata": {
    "id": "k0miqRUAFtHl"
   },
   "outputs": [],
   "source": [
    "# Insert code here"
   ]
  },
  {
   "cell_type": "markdown",
   "metadata": {
    "id": "faCxhfFnFtHp"
   },
   "source": [
    "# Loss functions\n",
    "\n",
    "We are only missing a loss function to we need to define a loss function and its derivative with respect to the output of the neural network $y$"
   ]
  },
  {
   "cell_type": "code",
   "execution_count": null,
   "metadata": {
    "id": "I2eDYKvAFtHq"
   },
   "outputs": [],
   "source": [
    "def squared_loss(t, y):\n",
    "  \n",
    "  # add check that sizes agree\n",
    "  \n",
    "  def squared_loss_single(t, y):\n",
    "    Loss = Var(0.0)\n",
    "    for i in range(len(t)): # sum over outputs\n",
    "      Loss += (t[i]-y[i]) ** 2\n",
    "    return Loss\n",
    "\n",
    "  Loss = Var(0.0)\n",
    "  for n in range(len(t)): # sum over training data\n",
    "    Loss += squared_loss_single(t[n],y[n])\n",
    "  return Loss"
   ]
  },
  {
   "cell_type": "markdown",
   "metadata": {
    "id": "SrwSJ2UWFtHu"
   },
   "source": [
    "## Exercise k) Implement cross entropy loss\n",
    "\n",
    "Insert code below to implement cross-entropy loss for general dimensionality of $t$. Use a logits formulation:\n",
    "$$\n",
    "\\rm{Loss} = - \\sum_i t_i \\, log \\, p_i \n",
    "$$\n",
    "with $p$ given by the the softmax function in terms of the logits $h$:\n",
    "$$\n",
    "p_i = \\frac{\\exp(h_i)}{\\sum_{i'} \\exp(h_{i'})} .\n",
    "$$\n",
    "Inserting $p$ in the expression for the loss gives\n",
    "$$\n",
    "\\rm{Loss} = - \\sum_i t_i h_i + \\rm{LogSumExp}(h) \\ ,\n",
    "$$\n",
    "where \n",
    "$$\n",
    "\\rm{LogSumExp}(h) = \\log \\sum_i \\exp h_i \\ .\n",
    "$$\n",
    "This is true for $t$ being a one-hot vector. \n",
    "\n",
    "Call the function to convince yourself it works. \n",
    "\n",
    "In practice you want to implement a [numerically stable](https://leimao.github.io/blog/LogSumExp/) version of LogSumExp. But we will not bother about that here.\n",
    "\n",
    "Help: You can add these methods in the Var class:\n",
    "\n",
    "    def exp(self):\n",
    "        return Var(exp(self.v), lambda: [(self, exp(self.v))])\n",
    "    \n",
    "    def log(self):\n",
    "        return Var(log(self.v), lambda: [(self, self.v ** -1)])"
   ]
  },
  {
   "cell_type": "code",
   "execution_count": null,
   "metadata": {
    "id": "6nMuxyfzFtHv"
   },
   "outputs": [],
   "source": [
    "def cross_entropy_loss(t, h):\n",
    "     \n",
    "    Loss = Var(0.0)\n",
    "    # Insert code here\n",
    "    return Loss"
   ]
  },
  {
   "cell_type": "markdown",
   "metadata": {
    "id": "8fAF5ew4FtHy"
   },
   "source": [
    "# Backward pass\n",
    "\n",
    "Now the magic happens! We get the calculation of the gradients for free. Just do:"
   ]
  },
  {
   "cell_type": "code",
   "execution_count": null,
   "metadata": {
    "id": "iHyfPPI9Qqwu"
   },
   "outputs": [],
   "source": [
    "NN = [\n",
    "    DenseLayer(1, 5, lambda x: x.relu()),\n",
    "    DenseLayer(5, 1, lambda x: x.identity())\n",
    "]\n",
    "\n",
    "output = forward(x_train, NN)\n",
    "\n",
    "Loss = squared_loss(y_train,output)\n",
    "Loss.backward()"
   ]
  },
  {
   "cell_type": "markdown",
   "metadata": {
    "id": "49biIAYKQ1oG"
   },
   "source": [
    "and the gradients will be calculated:"
   ]
  },
  {
   "cell_type": "code",
   "execution_count": null,
   "metadata": {
    "id": "_rGt1bq_Q7uk"
   },
   "outputs": [],
   "source": [
    "[print('Layer', i, '\\n', NN[i]) for i in range(len(NN))] "
   ]
  },
  {
   "cell_type": "markdown",
   "metadata": {
    "id": "D7d7qK0uFtH9"
   },
   "source": [
    "# Backward pass unit test\n",
    "\n",
    "Above we used finite differences to test that Nanograd is actually doing what it is supposed to do. We can in principle try the same for the neural network. But we will trust that the test above is enough."
   ]
  },
  {
   "cell_type": "markdown",
   "metadata": {
    "id": "WgBi8GOSFtIN"
   },
   "source": [
    "# Training and validation\n",
    "\n",
    "We are ready to train some neural networks!\n",
    "\n",
    "We initialize again:"
   ]
  },
  {
   "cell_type": "code",
   "execution_count": null,
   "metadata": {
    "id": "01ePmzBzRtdh"
   },
   "outputs": [],
   "source": [
    "NN = [\n",
    "    DenseLayer(1, 15, lambda x: x.relu()),\n",
    "    DenseLayer(15, 50, lambda x: x.relu()),\n",
    "    DenseLayer(50, 1, lambda x: x.identity())\n",
    "]\n",
    "\n",
    "output = forward(x_train, NN)\n",
    "\n",
    "Loss = squared_loss(y_train,output)\n",
    "Loss.backward()"
   ]
  },
  {
   "cell_type": "markdown",
   "metadata": {
    "id": "10iRPiQ1ISHw"
   },
   "source": [
    "and make an update:\n",
    "\n",
    "We introduce a help function parameters to have a handle in all parameters in the network."
   ]
  },
  {
   "cell_type": "code",
   "execution_count": null,
   "metadata": {
    "id": "dhAI7eyeznia"
   },
   "outputs": [],
   "source": [
    "print('Network before update:')\n",
    "[print('Layer', i, '\\n', NN[i]) for i in range(len(NN))] \n",
    "\n",
    "def parameters(network):\n",
    "  params = []\n",
    "  for layer in range(len(network)):\n",
    "    params += network[layer].parameters()\n",
    "  return params\n",
    "\n",
    "def update_parameters(params, learning_rate=0.01):\n",
    "  for p in params:\n",
    "    p.v -= learning_rate*p.grad\n",
    "\n",
    "def zero_gradients(params):\n",
    "  for p in params:\n",
    "    p.grad = 0.0\n",
    "\n",
    "update_parameters(parameters(NN))\n",
    "\n",
    "print('\\nNetwork after update:')\n",
    "[print('Layer', i, '\\n', NN[i]) for i in range(len(NN))] \n",
    "\n",
    "zero_gradients(parameters(NN))\n",
    "\n",
    "print('\\nNetwork after zeroing gradients:')\n",
    "[print('Layer', i, '\\n', NN[i]) for i in range(len(NN))] "
   ]
  },
  {
   "cell_type": "code",
   "execution_count": null,
   "metadata": {
    "id": "woWYpdw6FtIO"
   },
   "outputs": [],
   "source": [
    "# Initialize an arbitrary neural network\n",
    "NN = [\n",
    "    DenseLayer(1, 8, lambda x: x.relu()),\n",
    "    DenseLayer(8, 1, lambda x: x.identity())\n",
    "]\n",
    "\n",
    "# Recommended hyper-parameters for 3-D: \n",
    "#NN = [\n",
    "#    DenseLayer(3, 16, lambda x: x.relu()),\n",
    "#    DenseLayer(16, 1, lambda x: x.identity())\n",
    "#]\n",
    "\n",
    "\n",
    "### Notice that, when we switch from tanh to relu activation, we decrease the learning rate. This is due the stability of the gradients \n",
    "## of the activation functions."
   ]
  },
  {
   "cell_type": "code",
   "execution_count": null,
   "metadata": {
    "id": "mdqaqYBVFtIR"
   },
   "outputs": [],
   "source": [
    "# Initialize training hyperparameters\n",
    "EPOCHS = 200\n",
    "LEARN_R = 2e-3 "
   ]
  },
  {
   "cell_type": "code",
   "execution_count": null,
   "metadata": {
    "colab": {
     "base_uri": "https://localhost:8080/"
    },
    "id": "5kfg76GMFtIW",
    "outputId": "e30cf68a-31f2-42b4-cc5e-860c297c0f04",
    "scrolled": true
   },
   "outputs": [],
   "source": [
    "train_loss = []\n",
    "val_loss = []\n",
    "\n",
    "for e in range(EPOCHS):\n",
    "     \n",
    "    # Forward pass and loss computation\n",
    "    Loss = squared_loss(y_train, forward(x_train, NN))\n",
    "\n",
    "    # Backward pass\n",
    "    Loss.backward()\n",
    "    \n",
    "    # gradient descent update\n",
    "    update_parameters(parameters(NN), LEARN_R)\n",
    "    zero_gradients(parameters(NN))\n",
    "    \n",
    "    # Training loss\n",
    "    train_loss.append(Loss.v)\n",
    "    \n",
    "    # Validation\n",
    "    Loss_validation = squared_loss(y_validation, forward(x_validation, NN))\n",
    "    val_loss.append(Loss_validation.v)\n",
    "    \n",
    "    if e%10==0:\n",
    "        print(\"{:4d}\".format(e),\n",
    "              \"({:5.2f}%)\".format(e/EPOCHS*100), \n",
    "              \"Train loss: {:4.3f} \\t Validation loss: {:4.3f}\".format(train_loss[-1], val_loss[-1]))\n",
    "        \n"
   ]
  },
  {
   "cell_type": "code",
   "execution_count": null,
   "metadata": {
    "colab": {
     "base_uri": "https://localhost:8080/",
     "height": 265
    },
    "id": "VetyRWFwFtIY",
    "outputId": "344e490d-6d7d-455a-fa6f-88dd11eb957e"
   },
   "outputs": [],
   "source": [
    "plt.plot(range(len(train_loss)), train_loss);\n",
    "plt.plot(range(len(val_loss)), val_loss);"
   ]
  },
  {
   "cell_type": "markdown",
   "metadata": {
    "id": "8OgmIrM9FtIb"
   },
   "source": [
    "# Testing\n",
    "\n",
    "We have kept the calculation of the test error separate in order to emphasize that you should not use the test set in optimization."
   ]
  },
  {
   "cell_type": "code",
   "execution_count": null,
   "metadata": {
    "id": "HmNi7S-vFtIc"
   },
   "outputs": [],
   "source": [
    "output_test = forward(x_test, NN)"
   ]
  },
  {
   "cell_type": "code",
   "execution_count": null,
   "metadata": {
    "colab": {
     "base_uri": "https://localhost:8080/",
     "height": 316
    },
    "id": "7mmJOTSEFtIf",
    "outputId": "e3264095-cefe-4aee-893d-bf152438e332"
   },
   "outputs": [],
   "source": [
    "y_test_np = Var_to_nparray(y_test)\n",
    "plt.scatter(y_test_np, Var_to_nparray(output_test));\n",
    "plt.plot([np.min(y_test_np), np.max(y_test_np)], [np.min(y_test_np), np.max(y_test_np)], color='k');\n",
    "plt.xlabel(\"y\");\n",
    "plt.ylabel(\"$\\hat{y}$\");\n",
    "plt.title(\"Model prediction vs real in the test set, the close to the line the better\")\n",
    "plt.grid(True);\n",
    "plt.axis('equal');\n",
    "plt.tight_layout();\n",
    "\n",
    "Loss_test = squared_loss(y_test, forward(x_test, NN))\n",
    "\n",
    "print(\"Test loss:  {:4.3f}\".format(Loss_test.v))"
   ]
  },
  {
   "cell_type": "code",
   "execution_count": null,
   "metadata": {
    "colab": {
     "base_uri": "https://localhost:8080/",
     "height": 279
    },
    "id": "ODi0WlmQFtIh",
    "outputId": "d1ab874f-0717-4987-87bf-1f0c7c8e7148"
   },
   "outputs": [],
   "source": [
    "x_test_np = Var_to_nparray(x_test)\n",
    "x_train_np = Var_to_nparray(x_train)\n",
    "y_train_np = Var_to_nparray(y_train)\n",
    "if D1:\n",
    "    plt.scatter(x_train_np, y_train_np, label=\"train data\");\n",
    "    plt.scatter(x_test_np, Var_to_nparray(output_test), label=\"test prediction\");\n",
    "    plt.scatter(x_test_np, y_test_np, label=\"test data\");\n",
    "    plt.legend();\n",
    "    plt.xlabel(\"x\");\n",
    "    plt.ylabel(\"y\");\n",
    "else:\n",
    "    plt.scatter(x_train_np[:,1], y_train, label=\"train data\");\n",
    "    plt.scatter(x_test_np[:,1], Var_to_nparray(output_test), label=\"test data prediction\");\n",
    "    plt.scatter(x_test_np[:,1], y_test_np, label=\"test data\");\n",
    "    plt.legend();\n",
    "    plt.xlabel(\"x\");\n",
    "    plt.ylabel(\"y\");"
   ]
  },
  {
   "cell_type": "markdown",
   "metadata": {
    "id": "zTBAmjsAFtIk"
   },
   "source": [
    "## Exercise l) Show overfitting, underfitting and just right fitting\n",
    "\n",
    "Vary the architecture and other things to show clear signs of overfitting (=training loss significantly lower than test loss) and underfitting (=not fitting enoung to training data so that test performance is also hurt).\n",
    "\n",
    "See also if you can get a good compromise which leads to a low validation loss. \n",
    "\n",
    "For this problem do you see any big difference between validation and test loss? The answer here will probably be no. Discuss cases where it is important to keep the two separate.\n",
    "\n",
    "_Insert written answer here._\n"
   ]
  },
  {
   "cell_type": "code",
   "execution_count": null,
   "metadata": {
    "id": "tQZCn2dxFtIl"
   },
   "outputs": [],
   "source": [
    "# Insert your code for getting overfitting, underfitting and just right fitting"
   ]
  },
  {
   "cell_type": "markdown",
   "metadata": {
    "id": "fYPZP-eTFtIo"
   },
   "source": [
    "# Next steps - classification\n",
    "\n",
    "It is straight forward to extend what we have done to classification. \n",
    "\n",
    "For numerical stability it is better to make softmax and cross-entropy as one function so we write the cross entropy loss as a function of the logits we talked about last week. \n",
    "\n",
    "Next week we will see how to perform classification in PyTorch."
   ]
  },
  {
   "cell_type": "markdown",
   "metadata": {
    "id": "qsVPul3QFtIo"
   },
   "source": [
    "## Exercise m) optional - Implement backpropagation for classification\n",
    "\n",
    "Should be possible with very few lines of code. :-)"
   ]
  },
  {
   "cell_type": "code",
   "execution_count": null,
   "metadata": {
    "id": "oC8QrI2tFtIp"
   },
   "outputs": [],
   "source": [
    "# Just add code."
   ]
  },
  {
   "cell_type": "markdown",
   "metadata": {
    "id": "APqhJv3tta1O"
   },
   "source": [
    "## Exercise n) optional - Introduce a NeuralNetwork class\n",
    "\n",
    "The functions we applied on the neural network (parameters, update_parameters and zero_gradients) can more naturally be included as methods in a NeuralNetwork class. Make such a class and modify the code to use it. "
   ]
  },
  {
   "cell_type": "code",
   "execution_count": null,
   "metadata": {
    "id": "Dqfnor1ouMLq"
   },
   "outputs": [],
   "source": [
    "# just add some code"
   ]
  }
 ],
 "metadata": {
  "anaconda-cloud": {},
  "colab": {
   "collapsed_sections": [
    "U4057_ljNvWB",
    "p_8n_SKnIW2F",
    "oLrGJytZFtGm",
    "jpIZPBpNI0pO",
    "_79HOAXrFtHK",
    "mqeyab9qFtGs",
    "-XyXBD37FtHk",
    "SrwSJ2UWFtHu",
    "zTBAmjsAFtIk",
    "qsVPul3QFtIo",
    "APqhJv3tta1O"
   ],
   "name": "2.1-EXE-FNN-AutoDif-Nanograd.ipynb",
   "provenance": []
  },
  "kernelspec": {
<<<<<<< HEAD
   "display_name": "Python 3",
=======
   "display_name": "Python 3.10.4 ('deeplearning')",
>>>>>>> e498fab (Starting 2)
   "language": "python",
   "name": "python3"
  },
  "language_info": {
   "codemirror_mode": {
    "name": "ipython",
    "version": 3
   },
   "file_extension": ".py",
   "mimetype": "text/x-python",
   "name": "python",
   "nbconvert_exporter": "python",
   "pygments_lexer": "ipython3",
<<<<<<< HEAD
   "version": "3.9.12"
=======
   "version": "3.10.4"
  },
  "vscode": {
   "interpreter": {
    "hash": "bc9ca449b9a661e3b1bf60f1f24954142f6198c4c1e16c5112a16f5ab04ad405"
   }
>>>>>>> e498fab (Starting 2)
  }
 },
 "nbformat": 4,
 "nbformat_minor": 1
}
